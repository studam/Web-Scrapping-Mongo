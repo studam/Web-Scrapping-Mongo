{
 "cells": [
  {
   "cell_type": "code",
   "execution_count": 1,
   "id": "2881da54",
   "metadata": {},
   "outputs": [],
   "source": [
    "# Setup \n",
    "#-----------------------------\n",
    "from splinter import Browser\n",
    "from bs4 import BeautifulSoup\n",
    "import pandas as pd\n",
    "from webdriver_manager.chrome import ChromeDriverManager"
   ]
  },
  {
   "cell_type": "code",
   "execution_count": 2,
   "id": "f8b6d475",
   "metadata": {},
   "outputs": [
    {
     "name": "stderr",
     "output_type": "stream",
     "text": [
      "\n",
      "\n",
      "====== WebDriver manager ======\n",
      "Current google-chrome version is 99.0.4844\n",
      "Get LATEST chromedriver version for 99.0.4844 google-chrome\n",
      "Driver [C:\\Users\\Asus\\.wdm\\drivers\\chromedriver\\win32\\99.0.4844.51\\chromedriver.exe] found in cache\n"
     ]
    }
   ],
   "source": [
    "# Set up Splinter\n",
    "executable_path = {'executable_path': ChromeDriverManager().install()}\n",
    "browser = Browser('chrome', **executable_path, headless=False)"
   ]
  },
  {
   "cell_type": "code",
   "execution_count": 3,
   "id": "88d6ecc5",
   "metadata": {},
   "outputs": [],
   "source": [
    "# Create a empty dictionary to store the data\n",
    "#----------------------------------------------\n",
    "scraped_data = {}"
   ]
  },
  {
   "cell_type": "code",
   "execution_count": 7,
   "id": "96016c73",
   "metadata": {},
   "outputs": [
    {
     "data": {
      "text/plain": [
       "<div class=\"list_text\">\n",
       "<div class=\"list_date\">March 19, 2022</div>\n",
       "<div class=\"content_title\">Join NASA for the Launch of the Mars 2020 Perseverance Rover</div>\n",
       "<div class=\"article_teaser_body\">No matter where you live, choose from a menu of activities to join NASA as we \"Countdown to Mars\" and launch the Perseverance rover to the Red Planet.</div>\n",
       "</div>"
      ]
     },
     "execution_count": 7,
     "metadata": {},
     "output_type": "execute_result"
    }
   ],
   "source": [
    "# Visit the Mars News Site\n",
    "#---------------------------------------------\n",
    "Mars_News_Site = ('https://redplanetscience.com/')\n",
    "browser.visit(Mars_News_Site)\n",
    "\n",
    "\n",
    "# Create HTML object \n",
    "#---------------------\n",
    "html = browser.html\n",
    "\n",
    "# Parse HTML with BeautifulSoup \n",
    "#---------------------------------------------\n",
    "bsoup = BeautifulSoup(html, 'html.parser')\n",
    "\n",
    "# Get the first list of headlines containing the latest news title and paragraph text \n",
    "#------------------------------------------------------------------------------------------\n",
    "first_div = bsoup.select_one('div.list_text')\n",
    "first_div\n"
   ]
  },
  {
   "cell_type": "code",
   "execution_count": 8,
   "id": "b6a6ad8a",
   "metadata": {},
   "outputs": [
    {
     "name": "stdout",
     "output_type": "stream",
     "text": [
      "Join NASA for the Launch of the Mars 2020 Perseverance Rover\n",
      "No matter where you live, choose from a menu of activities to join NASA as we \"Countdown to Mars\" and launch the Perseverance rover to the Red Planet.\n"
     ]
    }
   ],
   "source": [
    "# Save the news title under the <div> tag with a class of 'content_title' \n",
    "#--------------------------------------------------------------------------\n",
    "news_title = first_div.find('div', class_='content_title').get_text()\n",
    "print(news_title)\n",
    "\n",
    "# Save the paragraph text under the <div> tag with a class of 'article_teaser_body' \n",
    "#-----------------------------------------------------------------------------------\n",
    "news_p = first_div.find('div', class_='article_teaser_body').get_text()\n",
    "print(news_p)"
   ]
  },
  {
   "cell_type": "code",
   "execution_count": 10,
   "id": "6eb95acb",
   "metadata": {},
   "outputs": [
    {
     "data": {
      "text/plain": [
       "{'Title': 'Join NASA for the Launch of the Mars 2020 Perseverance Rover',\n",
       " 'Paragraph': 'No matter where you live, choose from a menu of activities to join NASA as we \"Countdown to Mars\" and launch the Perseverance rover to the Red Planet.'}"
      ]
     },
     "execution_count": 10,
     "metadata": {},
     "output_type": "execute_result"
    }
   ],
   "source": [
    "# Create a dictionary with the scraped data\n",
    "#---------------------------------------------------------\n",
    "Nasa_News = {\"Title\":news_title, \"Paragraph\": news_p}\n",
    "Nasa_News"
   ]
  },
  {
   "cell_type": "code",
   "execution_count": 12,
   "id": "7bb67745",
   "metadata": {},
   "outputs": [],
   "source": [
    "# Save the scraped data to an entry of the dictionary\n",
    "#----------------------------------------------------\n",
    "scraped_data[\"Title\"] = news_title\n",
    "scraped_data[\"Paragraph\"] = news_p"
   ]
  },
  {
   "cell_type": "code",
   "execution_count": 19,
   "id": "4db69e99",
   "metadata": {},
   "outputs": [],
   "source": [
    "# Visit the JPL Featured Space Image website \n",
    "#-----------------------------------------------\n",
    "JPL_image = 'https://spaceimages-mars.com'\n",
    "browser.visit(JPL_image)\n"
   ]
  },
  {
   "cell_type": "code",
   "execution_count": 20,
   "id": "5fce4b90",
   "metadata": {},
   "outputs": [],
   "source": [
    "# Featured image is in the div class=\"carousel_container\"\n",
    "full_image_elem = browser.find_by_tag('button')[1]\n",
    "full_image_elem.click()\n"
   ]
  },
  {
   "cell_type": "code",
   "execution_count": 21,
   "id": "9a343b3d",
   "metadata": {},
   "outputs": [],
   "source": [
    "html = browser.html\n",
    "\n",
    "# Parse HTML with BeautifulSoup \n",
    "#-------------------------------------------\n",
    "soup = BeautifulSoup(html, 'html.parser')"
   ]
  },
  {
   "cell_type": "code",
   "execution_count": 22,
   "id": "1e82c4ed",
   "metadata": {},
   "outputs": [
    {
     "data": {
      "text/plain": [
       "'image/featured/mars3.jpg'"
      ]
     },
     "execution_count": 22,
     "metadata": {},
     "output_type": "execute_result"
    }
   ],
   "source": [
    "# find the relative image url\n",
    "img_url_rel = soup.find('img', class_='fancybox-image').get('src')\n",
    "img_url_rel"
   ]
  },
  {
   "cell_type": "code",
   "execution_count": 29,
   "id": "4a46c028",
   "metadata": {},
   "outputs": [
    {
     "data": {
      "text/plain": [
       "'https://spaceimages-mars.com/image/featured/mars3.jpg'"
      ]
     },
     "execution_count": 29,
     "metadata": {},
     "output_type": "execute_result"
    }
   ],
   "source": [
    "full_address = \"https://spaceimages-mars.com/\"+ img_url_rel\n",
    "full_address"
   ]
  },
  {
   "cell_type": "code",
   "execution_count": 32,
   "id": "7dfd10c3",
   "metadata": {},
   "outputs": [],
   "source": [
    "# URL\n",
    "#--------------------------------------------------------\n",
    "url_mars_facts = \"https://galaxyfacts-mars.com/\""
   ]
  },
  {
   "cell_type": "code",
   "execution_count": 33,
   "id": "0f1d03ed",
   "metadata": {},
   "outputs": [
    {
     "data": {
      "text/plain": [
       "2"
      ]
     },
     "execution_count": 33,
     "metadata": {},
     "output_type": "execute_result"
    }
   ],
   "source": [
    "# Pandas to scrape any table data from a page\n",
    "#-----------------------------------------------\n",
    "tables = pd.read_html(url_mars_facts)\n",
    "\n",
    "\n",
    "# Tables are available\n",
    "#-------------------------\n",
    "len(tables)"
   ]
  },
  {
   "cell_type": "code",
   "execution_count": 34,
   "id": "9c2cc3aa",
   "metadata": {},
   "outputs": [
    {
     "data": {
      "text/html": [
       "<div>\n",
       "<style scoped>\n",
       "    .dataframe tbody tr th:only-of-type {\n",
       "        vertical-align: middle;\n",
       "    }\n",
       "\n",
       "    .dataframe tbody tr th {\n",
       "        vertical-align: top;\n",
       "    }\n",
       "\n",
       "    .dataframe thead th {\n",
       "        text-align: right;\n",
       "    }\n",
       "</style>\n",
       "<table border=\"1\" class=\"dataframe\">\n",
       "  <thead>\n",
       "    <tr style=\"text-align: right;\">\n",
       "      <th></th>\n",
       "      <th>0</th>\n",
       "      <th>1</th>\n",
       "      <th>2</th>\n",
       "    </tr>\n",
       "  </thead>\n",
       "  <tbody>\n",
       "    <tr>\n",
       "      <th>0</th>\n",
       "      <td>Mars - Earth Comparison</td>\n",
       "      <td>Mars</td>\n",
       "      <td>Earth</td>\n",
       "    </tr>\n",
       "    <tr>\n",
       "      <th>1</th>\n",
       "      <td>Diameter:</td>\n",
       "      <td>6,779 km</td>\n",
       "      <td>12,742 km</td>\n",
       "    </tr>\n",
       "    <tr>\n",
       "      <th>2</th>\n",
       "      <td>Mass:</td>\n",
       "      <td>6.39 × 10^23 kg</td>\n",
       "      <td>5.97 × 10^24 kg</td>\n",
       "    </tr>\n",
       "    <tr>\n",
       "      <th>3</th>\n",
       "      <td>Moons:</td>\n",
       "      <td>2</td>\n",
       "      <td>1</td>\n",
       "    </tr>\n",
       "    <tr>\n",
       "      <th>4</th>\n",
       "      <td>Distance from Sun:</td>\n",
       "      <td>227,943,824 km</td>\n",
       "      <td>149,598,262 km</td>\n",
       "    </tr>\n",
       "    <tr>\n",
       "      <th>5</th>\n",
       "      <td>Length of Year:</td>\n",
       "      <td>687 Earth days</td>\n",
       "      <td>365.24 days</td>\n",
       "    </tr>\n",
       "    <tr>\n",
       "      <th>6</th>\n",
       "      <td>Temperature:</td>\n",
       "      <td>-87 to -5 °C</td>\n",
       "      <td>-88 to 58°C</td>\n",
       "    </tr>\n",
       "  </tbody>\n",
       "</table>\n",
       "</div>"
      ],
      "text/plain": [
       "                         0                1                2\n",
       "0  Mars - Earth Comparison             Mars            Earth\n",
       "1                Diameter:         6,779 km        12,742 km\n",
       "2                    Mass:  6.39 × 10^23 kg  5.97 × 10^24 kg\n",
       "3                   Moons:                2                1\n",
       "4       Distance from Sun:   227,943,824 km   149,598,262 km\n",
       "5          Length of Year:   687 Earth days      365.24 days\n",
       "6             Temperature:     -87 to -5 °C      -88 to 58°C"
      ]
     },
     "execution_count": 34,
     "metadata": {},
     "output_type": "execute_result"
    }
   ],
   "source": [
    "tables[0]"
   ]
  },
  {
   "cell_type": "code",
   "execution_count": 37,
   "id": "4276eac2",
   "metadata": {},
   "outputs": [
    {
     "data": {
      "text/html": [
       "<div>\n",
       "<style scoped>\n",
       "    .dataframe tbody tr th:only-of-type {\n",
       "        vertical-align: middle;\n",
       "    }\n",
       "\n",
       "    .dataframe tbody tr th {\n",
       "        vertical-align: top;\n",
       "    }\n",
       "\n",
       "    .dataframe thead th {\n",
       "        text-align: right;\n",
       "    }\n",
       "</style>\n",
       "<table border=\"1\" class=\"dataframe\">\n",
       "  <thead>\n",
       "    <tr style=\"text-align: right;\">\n",
       "      <th></th>\n",
       "      <th>0</th>\n",
       "      <th>1</th>\n",
       "      <th>2</th>\n",
       "    </tr>\n",
       "  </thead>\n",
       "  <tbody>\n",
       "    <tr>\n",
       "      <th>0</th>\n",
       "      <td>Mars - Earth Comparison</td>\n",
       "      <td>Mars</td>\n",
       "      <td>Earth</td>\n",
       "    </tr>\n",
       "    <tr>\n",
       "      <th>1</th>\n",
       "      <td>Diameter:</td>\n",
       "      <td>6,779 km</td>\n",
       "      <td>12,742 km</td>\n",
       "    </tr>\n",
       "    <tr>\n",
       "      <th>2</th>\n",
       "      <td>Mass:</td>\n",
       "      <td>6.39 × 10^23 kg</td>\n",
       "      <td>5.97 × 10^24 kg</td>\n",
       "    </tr>\n",
       "    <tr>\n",
       "      <th>3</th>\n",
       "      <td>Moons:</td>\n",
       "      <td>2</td>\n",
       "      <td>1</td>\n",
       "    </tr>\n",
       "    <tr>\n",
       "      <th>4</th>\n",
       "      <td>Distance from Sun:</td>\n",
       "      <td>227,943,824 km</td>\n",
       "      <td>149,598,262 km</td>\n",
       "    </tr>\n",
       "    <tr>\n",
       "      <th>5</th>\n",
       "      <td>Length of Year:</td>\n",
       "      <td>687 Earth days</td>\n",
       "      <td>365.24 days</td>\n",
       "    </tr>\n",
       "    <tr>\n",
       "      <th>6</th>\n",
       "      <td>Temperature:</td>\n",
       "      <td>-87 to -5 °C</td>\n",
       "      <td>-88 to 58°C</td>\n",
       "    </tr>\n",
       "  </tbody>\n",
       "</table>\n",
       "</div>"
      ],
      "text/plain": [
       "                         0                1                2\n",
       "0  Mars - Earth Comparison             Mars            Earth\n",
       "1                Diameter:         6,779 km        12,742 km\n",
       "2                    Mass:  6.39 × 10^23 kg  5.97 × 10^24 kg\n",
       "3                   Moons:                2                1\n",
       "4       Distance from Sun:   227,943,824 km   149,598,262 km\n",
       "5          Length of Year:   687 Earth days      365.24 days\n",
       "6             Temperature:     -87 to -5 °C      -88 to 58°C"
      ]
     },
     "execution_count": 37,
     "metadata": {},
     "output_type": "execute_result"
    }
   ],
   "source": [
    "# Select the intended table\n",
    "#-------------------------------\n",
    "table_facts = tables[0]\n",
    "table_facts"
   ]
  },
  {
   "cell_type": "code",
   "execution_count": 38,
   "id": "2b936fe5",
   "metadata": {},
   "outputs": [],
   "source": [
    "# Convert the data to a HTML table string\n",
    "#---------------------------------------------------\n",
    "scraped_data[\"TableHTML\"] = table_facts.to_html()"
   ]
  },
  {
   "cell_type": "code",
   "execution_count": 39,
   "id": "7e0e51a5",
   "metadata": {},
   "outputs": [],
   "source": [
    "# URL\n",
    "#--------------------------------------------------------------------------------------------------------------\n",
    "url_mars_hemispheres = \"https://marshemispheres.com/\""
   ]
  },
  {
   "cell_type": "code",
   "execution_count": 40,
   "id": "f6d85f37",
   "metadata": {},
   "outputs": [],
   "source": [
    "# Use the browser to visit the url\n",
    "#--------------------------------------\n",
    "browser.visit(url_mars_hemispheres)"
   ]
  },
  {
   "cell_type": "code",
   "execution_count": 41,
   "id": "0441d2b1",
   "metadata": {},
   "outputs": [],
   "source": [
    "# Splinter capture a page's underlying html and use pass it to BeautifulSoup to scrape the content\n",
    "#-------------------------------------------------------------------------------------------------------------------\n",
    "html = browser.html\n",
    "soup = BeautifulSoup(html, 'html.parser')"
   ]
  },
  {
   "cell_type": "code",
   "execution_count": 42,
   "id": "222483ab",
   "metadata": {},
   "outputs": [],
   "source": [
    "# By analyzing the page we can find that the images are in a div class='description'\n",
    "#--------------------------------------------------------------------------------------\n",
    "results= soup.find_all('div',class_='description')"
   ]
  },
  {
   "cell_type": "code",
   "execution_count": 43,
   "id": "eb1e5686",
   "metadata": {},
   "outputs": [
    {
     "data": {
      "text/plain": [
       "['Cerberus Hemisphere Enhanced',\n",
       " 'Schiaparelli Hemisphere Enhanced',\n",
       " 'Syrtis Major Hemisphere Enhanced',\n",
       " 'Valles Marineris Hemisphere Enhanced']"
      ]
     },
     "execution_count": 43,
     "metadata": {},
     "output_type": "execute_result"
    }
   ],
   "source": [
    "# list with the name of the hemispheres\n",
    "#------------------------------------------------\n",
    "list_hemispheres = []\n",
    "for i in range(len(results)):\n",
    "    list_hemispheres.append(results[i].a.h3.text)\n",
    "\n",
    "list_hemispheres"
   ]
  },
  {
   "cell_type": "code",
   "execution_count": 44,
   "id": "e2d293aa",
   "metadata": {},
   "outputs": [
    {
     "name": "stderr",
     "output_type": "stream",
     "text": [
      "C:\\Users\\Asus\\anaconda\\lib\\site-packages\\splinter\\driver\\webdriver\\__init__.py:517: FutureWarning: browser.find_link_by_partial_text is deprecated. Use browser.links.find_by_partial_text instead.\n",
      "  warnings.warn(\n"
     ]
    }
   ],
   "source": [
    "hemisphere_image_urls = []\n",
    "\n",
    "# Create a list of dictionaries for each hemisphere\n",
    "for i in range(len(list_hemispheres)):\n",
    "\n",
    "    # Use the browser to visit the url\n",
    "    browser.click_link_by_partial_text(list_hemispheres[i])\n",
    "    \n",
    "    # Splinter can capture a page's underlying html and use pass it to BeautifulSoup to allow us to scrape the content\n",
    "    html = browser.html\n",
    "    soup = BeautifulSoup(html, 'html.parser')\n",
    "\n",
    "    # By analyzing the page we can find that the images link are in a li\n",
    "    results_new = soup.find_all('li')\n",
    "\n",
    "\n",
    "    # Append the dictionary with the image url string and the hemisphere title to a list.\n",
    "    for n in range(len(results_new)):\n",
    "        if results_new[n].a.text == 'Sample':\n",
    "            hemisphere_image_urls.append({\"title\": list_hemispheres[i].replace(\"Hemisphere Enhanced\", 'Hemisphere'), \"img_url\": results_new[0].a['href']})\n",
    "            \n",
    "    # Use the browser to visit the url\n",
    "    browser.visit(url_mars_hemispheres)"
   ]
  },
  {
   "cell_type": "code",
   "execution_count": 45,
   "id": "c486133f",
   "metadata": {},
   "outputs": [
    {
     "data": {
      "text/plain": [
       "{'ListImages': [{'title': 'Cerberus Hemisphere', 'img_url': 'images/full.jpg'},\n",
       "  {'title': 'Schiaparelli Hemisphere',\n",
       "   'img_url': 'images/schiaparelli_enhanced-full.jpg'},\n",
       "  {'title': 'Syrtis Major Hemisphere',\n",
       "   'img_url': 'images/syrtis_major_enhanced-full.jpg'},\n",
       "  {'title': 'Valles Marineris Hemisphere',\n",
       "   'img_url': 'images/valles_marineris_enhanced-full.jpg'}]}"
      ]
     },
     "execution_count": 45,
     "metadata": {},
     "output_type": "execute_result"
    }
   ],
   "source": [
    "# Create a dictionary with the scraped data\n",
    "DSD = {\"ListImages\": hemisphere_image_urls}\n",
    "DSD"
   ]
  },
  {
   "cell_type": "code",
   "execution_count": 46,
   "id": "5e99bb7b",
   "metadata": {},
   "outputs": [],
   "source": [
    "# Save the scraped data to an entry of the dictionary\n",
    "scraped_data[\"ListImages\"] = hemisphere_image_urls"
   ]
  },
  {
   "cell_type": "code",
   "execution_count": 48,
   "id": "30fc0e63",
   "metadata": {},
   "outputs": [],
   "source": [
    "# When you’ve finished testing, close your browser using browser.quit:\n",
    "browser.quit()"
   ]
  },
  {
   "cell_type": "code",
   "execution_count": 49,
   "id": "b7f291de",
   "metadata": {},
   "outputs": [
    {
     "data": {
      "text/plain": [
       "{'Title': 'Join NASA for the Launch of the Mars 2020 Perseverance Rover',\n",
       " 'Paragraph': 'No matter where you live, choose from a menu of activities to join NASA as we \"Countdown to Mars\" and launch the Perseverance rover to the Red Planet.',\n",
       " 'TableHTML': '<table border=\"1\" class=\"dataframe\">\\n  <thead>\\n    <tr style=\"text-align: right;\">\\n      <th></th>\\n      <th>0</th>\\n      <th>1</th>\\n      <th>2</th>\\n    </tr>\\n  </thead>\\n  <tbody>\\n    <tr>\\n      <th>0</th>\\n      <td>Mars - Earth Comparison</td>\\n      <td>Mars</td>\\n      <td>Earth</td>\\n    </tr>\\n    <tr>\\n      <th>1</th>\\n      <td>Diameter:</td>\\n      <td>6,779 km</td>\\n      <td>12,742 km</td>\\n    </tr>\\n    <tr>\\n      <th>2</th>\\n      <td>Mass:</td>\\n      <td>6.39 × 10^23 kg</td>\\n      <td>5.97 × 10^24 kg</td>\\n    </tr>\\n    <tr>\\n      <th>3</th>\\n      <td>Moons:</td>\\n      <td>2</td>\\n      <td>1</td>\\n    </tr>\\n    <tr>\\n      <th>4</th>\\n      <td>Distance from Sun:</td>\\n      <td>227,943,824 km</td>\\n      <td>149,598,262 km</td>\\n    </tr>\\n    <tr>\\n      <th>5</th>\\n      <td>Length of Year:</td>\\n      <td>687 Earth days</td>\\n      <td>365.24 days</td>\\n    </tr>\\n    <tr>\\n      <th>6</th>\\n      <td>Temperature:</td>\\n      <td>-87 to -5 °C</td>\\n      <td>-88 to 58°C</td>\\n    </tr>\\n  </tbody>\\n</table>',\n",
       " 'ListImages': [{'title': 'Cerberus Hemisphere', 'img_url': 'images/full.jpg'},\n",
       "  {'title': 'Schiaparelli Hemisphere',\n",
       "   'img_url': 'images/schiaparelli_enhanced-full.jpg'},\n",
       "  {'title': 'Syrtis Major Hemisphere',\n",
       "   'img_url': 'images/syrtis_major_enhanced-full.jpg'},\n",
       "  {'title': 'Valles Marineris Hemisphere',\n",
       "   'img_url': 'images/valles_marineris_enhanced-full.jpg'}]}"
      ]
     },
     "execution_count": 49,
     "metadata": {},
     "output_type": "execute_result"
    }
   ],
   "source": [
    "# The scraped data is available on the dictionary form\n",
    "scraped_data"
   ]
  },
  {
   "cell_type": "code",
   "execution_count": 50,
   "id": "6c5c01ce",
   "metadata": {},
   "outputs": [
    {
     "data": {
      "text/plain": [
       "{'_id': ObjectId('623601380b519a1136a93252'),\n",
       " 'Title': 'Join NASA for the Launch of the Mars 2020 Perseverance Rover',\n",
       " 'Paragraph': 'No matter where you live, choose from a menu of activities to join NASA as we \"Countdown to Mars\" and launch the Perseverance rover to the Red Planet.',\n",
       " 'TableHTML': '<table border=\"1\" class=\"dataframe\">\\n  <thead>\\n    <tr style=\"text-align: right;\">\\n      <th></th>\\n      <th>0</th>\\n      <th>1</th>\\n      <th>2</th>\\n    </tr>\\n  </thead>\\n  <tbody>\\n    <tr>\\n      <th>0</th>\\n      <td>Mars - Earth Comparison</td>\\n      <td>Mars</td>\\n      <td>Earth</td>\\n    </tr>\\n    <tr>\\n      <th>1</th>\\n      <td>Diameter:</td>\\n      <td>6,779 km</td>\\n      <td>12,742 km</td>\\n    </tr>\\n    <tr>\\n      <th>2</th>\\n      <td>Mass:</td>\\n      <td>6.39 × 10^23 kg</td>\\n      <td>5.97 × 10^24 kg</td>\\n    </tr>\\n    <tr>\\n      <th>3</th>\\n      <td>Moons:</td>\\n      <td>2</td>\\n      <td>1</td>\\n    </tr>\\n    <tr>\\n      <th>4</th>\\n      <td>Distance from Sun:</td>\\n      <td>227,943,824 km</td>\\n      <td>149,598,262 km</td>\\n    </tr>\\n    <tr>\\n      <th>5</th>\\n      <td>Length of Year:</td>\\n      <td>687 Earth days</td>\\n      <td>365.24 days</td>\\n    </tr>\\n    <tr>\\n      <th>6</th>\\n      <td>Temperature:</td>\\n      <td>-87 to -5 °C</td>\\n      <td>-88 to 58°C</td>\\n    </tr>\\n  </tbody>\\n</table>',\n",
       " 'ListImages': [{'title': 'Cerberus Hemisphere', 'img_url': 'images/full.jpg'},\n",
       "  {'title': 'Schiaparelli Hemisphere',\n",
       "   'img_url': 'images/schiaparelli_enhanced-full.jpg'},\n",
       "  {'title': 'Syrtis Major Hemisphere',\n",
       "   'img_url': 'images/syrtis_major_enhanced-full.jpg'},\n",
       "  {'title': 'Valles Marineris Hemisphere',\n",
       "   'img_url': 'images/valles_marineris_enhanced-full.jpg'}]}"
      ]
     },
     "execution_count": 50,
     "metadata": {},
     "output_type": "execute_result"
    }
   ],
   "source": [
    "import pymongo\n",
    "\n",
    "# Flask_pymongo to set up mongo connection\n",
    "#------------------------------------------------------------\n",
    "conn =  \"mongodb://localhost:27017/scrape_mars\"\n",
    "client =  pymongo.MongoClient(conn)\n",
    "\n",
    "# Collection and drop existing data\n",
    "#-----------------------------------\n",
    "db = client.scrape_mars\n",
    "db.mars_data.drop()\n",
    "\n",
    "db.mars_data.insert_many([scraped_data])\n",
    "\n",
    "\n",
    "# query_result = list(db.mars_data.find())\n",
    "# query_result = (db.mars_data.find())\n",
    "#----------------------------------------------\n",
    "query_result = (db.mars_data.find_one())\n",
    "query_result"
   ]
  },
  {
   "cell_type": "code",
   "execution_count": 51,
   "id": "6a55c966",
   "metadata": {},
   "outputs": [
    {
     "data": {
      "text/plain": [
       "dict"
      ]
     },
     "execution_count": 51,
     "metadata": {},
     "output_type": "execute_result"
    }
   ],
   "source": [
    "type(query_result)"
   ]
  },
  {
   "cell_type": "code",
   "execution_count": 52,
   "id": "884aab80",
   "metadata": {},
   "outputs": [
    {
     "data": {
      "text/plain": [
       "5"
      ]
     },
     "execution_count": 52,
     "metadata": {},
     "output_type": "execute_result"
    }
   ],
   "source": [
    "len(query_result)"
   ]
  },
  {
   "cell_type": "code",
   "execution_count": 53,
   "id": "02a4bdb6",
   "metadata": {},
   "outputs": [
    {
     "data": {
      "text/plain": [
       "'Join NASA for the Launch of the Mars 2020 Perseverance Rover'"
      ]
     },
     "execution_count": 53,
     "metadata": {},
     "output_type": "execute_result"
    }
   ],
   "source": [
    "query_result['Title']"
   ]
  },
  {
   "cell_type": "code",
   "execution_count": null,
   "id": "92029eb1",
   "metadata": {},
   "outputs": [],
   "source": []
  }
 ],
 "metadata": {
  "kernelspec": {
   "display_name": "Python 3",
   "language": "python",
   "name": "python3"
  },
  "language_info": {
   "codemirror_mode": {
    "name": "ipython",
    "version": 3
   },
   "file_extension": ".py",
   "mimetype": "text/x-python",
   "name": "python",
   "nbconvert_exporter": "python",
   "pygments_lexer": "ipython3",
   "version": "3.8.8"
  }
 },
 "nbformat": 4,
 "nbformat_minor": 5
}
